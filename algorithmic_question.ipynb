{
 "cells": [
  {
   "cell_type": "markdown",
   "metadata": {},
   "source": [
    "## 5. Algorithmic Questions (AQ)\n",
    "\n",
    "### Part A\n",
    "A sports club hires you to create a team for the National Sports Championship. Every Italian Region sends its best $M$ athletes to compete in an intense 2-day sports event, and Rome is no exception!\n",
    "\n",
    "The trainers of Team Rome need to carefully choose the best $M$ athletes from a pool of $N$ candidates. Each athlete is uniquely identified by a number from 1 to $N$ and possesses a set of $S$ sports skills. Each skill is represented by a 3-character string with only uppercase letters and a non-negative integer indicating the athlete's proficiency in that skill (always greater than 0).\n",
    "\n",
    "The trainers have extensively studied the competition format and established an optimal set of (possibly repeated) skills the team should possess to ensure the best possible performance. Each of the ten selected athletes will be assigned one of these skills as their role within the team.\n",
    "\n",
    "The team's overall score is the sum of the skill scores of its members in the roles they have been assigned. Other skills of each athlete do not contribute to the team's score.\n",
    "\n",
    "Your task is to determine the maximum possible global score for Team Rome, given the list of candidates.\n",
    "\n",
    "Note: Assigning an athlete to a role not listed in their skills is possible. In that case, that athlete's contribution to the global score will be 0.\n",
    "\n",
    "__Input__\n",
    "The input consists of $2 + N(S + 1)$ lines:\n",
    "- Line 1: the numbers $N, M,$ and $S$, separated by a space.\n",
    "- Line 2: the optimal set of skills required by the trainers, as a list of $M$ space-separated skill names.\n",
    "- Lines 3, . . . , $N(S + 1) + 2$: every group of $S + 1$ lines is formatted as follows:\n",
    "  - Line 1: the unique id of the athlete.\n",
    "  - Lines 2, . . . , $S + 1$: one skill name and the corresponding skill score, separated by a space.\n",
    "\n",
    "__Output__\n",
    "Print the maximum global score that can be achieved with the available athletes.\n",
    "\n",
    "__Input 1__\n",
    "```\n",
    "14 10 1 # N, M, S\n",
    "SWM VOL ATH VOL VOL BSK HCK BSK SWM BSK #set of skills\n",
    "1\n",
    "BSK 98\n",
    "2\n",
    "ATH 14\n",
    "3\n",
    "HCK 82\n",
    "4\n",
    "HCK 9\n",
    "5\n",
    "FTB 90\n",
    "6\n",
    "ATH 52\n",
    "7\n",
    "HCK 95\n",
    "8\n",
    "TEN 85\n",
    "9\n",
    "RGB 46\n",
    "10\n",
    "SWM 16\n",
    "11\n",
    "VOL 32\n",
    "12\n",
    "SOC 41\n",
    "13\n",
    "SWM 59\n",
    "14\n",
    "SWM 34\n",
    "```\n",
    "__Output 1__\n",
    "```\n",
    "370\n",
    "```\n",
    "---\n",
    "__Input 2__\n",
    "```\n",
    "14 10 2 # N, M, S\n",
    "SWM VOL ATH VOL VOL BSK HCK BSK SWM BSK #set of skills\n",
    "1\n",
    "BSK 98\n",
    "HCK 12\n",
    "2\n",
    "ATH 14\n",
    "VOL 1\n",
    "3\n",
    "HCK 82\n",
    "ATH 30\n",
    "4\n",
    "HCK 9\n",
    "SWM 27\n",
    "5\n",
    "FTB 90\n",
    "HCK 50\n",
    "6\n",
    "ATH 52\n",
    "RGB 80\n",
    "7\n",
    "HCK 95\n",
    "SWM 11\n",
    "8\n",
    "TEN 85\n",
    "RGB 7\n",
    "9\n",
    "RGB 46\n",
    "SWM 30\n",
    "10\n",
    "SWM 16\n",
    "BSK 12\n",
    "11\n",
    "VOL 32\n",
    "HCK 40\n",
    "12\n",
    "SOC 41\n",
    "FTB 12\n",
    "13\n",
    "SWM 59\n",
    "TEN 82\n",
    "14\n",
    "SWM 34\n",
    "VOL 20\n",
    "```\n",
    "__Output 2__\n",
    "```\n",
    "399\n",
    "```\n",
    "__Your job__:\n",
    "1. Implement an algorithm to solve the described mentioned problem. \n",
    "\n",
    "2. What is the __time complexity__ (the Big O notation) of your solution? Please provide a <ins>detailed explanation</ins> of how you calculated the time complexity.\n",
    "\n",
    "3. Ask ChatGPT or any other LLM chatbot tool to check your code's time complexity (the Big O notation). Compare your answer to theirs. If the <ins>two differ</ins>, which one is right? (why?)\n",
    "   \n",
    "4. If you algorithm has exponential time complexity, can you provide a __polynomial-time version__? \n",
    "\n",
    "5. If $S=1$, how does the __time complexity__ of an optimal algorithm to solve this problem change?\n",
    "\n",
    "### Part B\n",
    "\n",
    "The success of a project depends not only on the expertise of the people involved but also on how effectively they work together as a team. So this time, instead of focusing on who has the best skills, let's focus on finding a group of individuals who can function as a team to accomplish a specific task.\n",
    "\n",
    "Given a set of skills $T$, our goal is to find a set of individuals $X' \\subseteq X$ , such that every required skill in $T$ is exhibited by at least one individual in $X'$. Additionally, the members of team $X'$ should have low effort to work together i.e. all the members of the team $X'$ work well with each other.\n",
    "\n",
    "This problem can be easily visualised with graphs: we define an undirected weighted graph $G=(V,E)$ where every element $x_i \\in X$ has a corresponding node $v_i \\in V$. The weights of the edges represent the effort required to work well together: the lower the weight of an edge between two nodes, the less effort the corresponding team members need to work well together.\n",
    "\n",
    "We define as acceptable solution any subset $V' \\subseteq V$ such that $T \\cap \\cup_{v_i\\in V'} S_{v_i}$ where $S_{v_i} =$ {set of skills of member $x_i$ corresponding to the vertex $v_i$}. The goal is to find, among all acceptable solutions, the one that minimizes the effort to work together $E_c(V')$.\n",
    "The effort to work together $E_c(V')$ is the cost of the minimum spanning tree on the subgraph $G[V']$ i.e. the sum of the weights of its edges.\n",
    "\n",
    "__Your job__:\n",
    "1. Prove or disprove that the problem is NP-complete.\n",
    "2. Write a heuristic in order to approximate the best solution for this problem.\n",
    "3. What is the time complexity of your solution ?"
   ]
  },
  {
   "cell_type": "markdown",
   "metadata": {},
   "source": [
    "### Part A"
   ]
  },
  {
   "cell_type": "markdown",
   "metadata": {},
   "source": [
    "#### 1. Implementing an algorithm"
   ]
  },
  {
   "cell_type": "markdown",
   "metadata": {},
   "source": [
    "Before starting the algorithm implementation, we need to parse the input. From the task description we get how the input is processed. Below is the implementation of parsing."
   ]
  },
  {
   "cell_type": "code",
   "execution_count": 14,
   "metadata": {},
   "outputs": [],
   "source": [
    "from collections import defaultdict\n",
    "\n",
    "\n",
    "def parse_input(input_filename):\n",
    "    with open(input_filename) as f:\n",
    "        lines = f.readlines()\n",
    "\n",
    "    # First line is n, m and s values respectively\n",
    "    n, m, s = [int(x) for x in lines[0].split()]\n",
    "\n",
    "    # Second line is set of skills needed for competition\n",
    "    list_of_skills = lines[1].split()\n",
    "\n",
    "    athlete_dict = defaultdict(dict)\n",
    "    i = 2\n",
    "\n",
    "    # Rest of the lines is athlete's and their skills with scores\n",
    "    while i < len(lines):\n",
    "        # If only id is present, that is the new athlete\n",
    "        if len(lines[i].split()) == 1:\n",
    "            athlete_id = int(lines[i].strip())\n",
    "        # This is the skill and corresponding score for the athlete_id\n",
    "        else:\n",
    "            skill, score = lines[i].split()\n",
    "            athlete_dict[athlete_id][skill] = int(score)\n",
    "        i += 1\n",
    "    return n, m, s, list_of_skills, athlete_dict"
   ]
  },
  {
   "cell_type": "markdown",
   "metadata": {},
   "source": [
    "After parsing, now we can talk about the algorithm. First idea is to implement DFS algorithm that will get through each and every athlete with every possible combination. This will give us an answer that is always correct, with the expense of time complexity, which we will talk about in the next point."
   ]
  },
  {
   "cell_type": "code",
   "execution_count": 34,
   "metadata": {},
   "outputs": [],
   "source": [
    "def dfs(athlete_dict, list_of_skills, used_athletes, current_index, current_score):\n",
    "    # We reached the end of skills needed\n",
    "    if current_index == len(list_of_skills):\n",
    "        return current_score\n",
    "\n",
    "    max_score = 0\n",
    "\n",
    "    for athlete, skills in athlete_dict.items():\n",
    "        # Each athlete must be unique, so only those that are not in used_athletes are interesting for consideration\n",
    "        if athlete not in used_athletes:\n",
    "            # Add that athlete to the list\n",
    "            used_athletes.add(athlete)\n",
    "            # Because we will consider each athlete for each skill, we will take that athlete into consideration\n",
    "            # If he does not have that skill, in that case, give the score 0\n",
    "            skill_score = skills.get(list_of_skills[current_index], 0)\n",
    "            # Recursive call with increased current_index and current_score\n",
    "            score = dfs(\n",
    "                athlete_dict,\n",
    "                list_of_skills,\n",
    "                used_athletes,\n",
    "                current_index + 1,\n",
    "                current_score + skill_score,\n",
    "            )\n",
    "            # Get the score that is maximum\n",
    "            max_score = max(max_score, score)\n",
    "            # Now remove the athlete from used_athletes, so we can check the new skill for this athlete\n",
    "            used_athletes.remove(athlete)\n",
    "\n",
    "    return max_score\n",
    "\n",
    "\n",
    "# Wrapper that takes input the file where the problem is stored using the DFS approach\n",
    "def give_maximum_score_dfs(input_filename):\n",
    "    n, m, s, list_of_skills, athlete_dict = parse_input(input_filename)\n",
    "    used_athletes = set()\n",
    "    return dfs(athlete_dict, list_of_skills, used_athletes, 0, 0)"
   ]
  },
  {
   "cell_type": "code",
   "execution_count": 31,
   "metadata": {},
   "outputs": [],
   "source": [
    "max_score_1 = give_maximum_score_dfs(\"input/ex1.txt\")\n",
    "max_score_2 = give_maximum_score_dfs(\"input/ex2.txt\")"
   ]
  },
  {
   "cell_type": "code",
   "execution_count": 33,
   "metadata": {},
   "outputs": [
    {
     "name": "stdout",
     "output_type": "stream",
     "text": [
      "370\n",
      "399\n"
     ]
    }
   ],
   "source": [
    "print(max_score_1)  # Expected: 370\n",
    "print(max_score_2)  # Expected: 399"
   ]
  },
  {
   "cell_type": "markdown",
   "metadata": {},
   "source": [
    "As we can see, the results from the examples match our results so the algorithm is correct. More examples would be needed for further testing, but with this strategy we will always get correct result."
   ]
  },
  {
   "cell_type": "markdown",
   "metadata": {},
   "source": [
    "#### 2. Time complexity"
   ]
  },
  {
   "cell_type": "markdown",
   "metadata": {},
   "source": [
    "For the time complexity, we will only focus on the algorithm, not on parsing the input. If we take a look at the algorithm, it will go through each athlete and their skills with `for athlete, skills in athlete_dict.items():`, which basically needs to be done `n` times, where `n` is the number of athletes. Inside the for loop all of the operations are `O(1)`, except for the recursive call `score = dfs(parameters)`. Now we go through this call again for `n`, and we do that times how many skills there are, which is `m`. In conclusion, the time complexity is `O(n^m)` where `m` is the total skills needed and n is the number of athletes."
   ]
  },
  {
   "cell_type": "markdown",
   "metadata": {},
   "source": [
    "As we can see, this is not the most optimal solution, however it provides the correct output everytime. To improve on this, some sort of heuristic or different approach is needed."
   ]
  },
  {
   "cell_type": "markdown",
   "metadata": {},
   "source": [
    "#### 3. ChatGPT time complexity"
   ]
  },
  {
   "cell_type": "markdown",
   "metadata": {},
   "source": [
    "After asking ChatGPT for the time complexity of the code, following solution is provided: \n",
    "\n",
    "\"The time complexity of the provided Depth-First Search (DFS) algorithm can be analyzed based on the number of athletes and the number of skills. Let's denote the number of athletes as N and the number of skills as M.\n",
    "- Outer For Loop: The loop iterates over each athlete. Since each athlete can be considered once for each recursive call of dfs, this contributes to N iterations.\n",
    "- Recursive Calls: The recursive call is made for each skill, incrementing current_index each time until it reaches the length of list_of_skills, which is M. This means the recursion depth is M.\n",
    "- Combination of Athletes and Skills: In the worst case, every athlete is considered for every skill. The recursive calls explore every possible combination of athletes and skills.\n",
    "\n",
    "Therefore, the time complexity of the dfs function can be approximated as O(N^M). This represents the scenario where for each skill (M levels deep in recursion), the algorithm considers each of the N athletes.\"\n",
    "\n",
    "This gives the same answer as we did analyzied in point `2. Time complexity`. "
   ]
  },
  {
   "cell_type": "markdown",
   "metadata": {},
   "source": [
    "#### 4. Polynomial-time algorithm"
   ]
  },
  {
   "cell_type": "markdown",
   "metadata": {},
   "source": [
    "Now, we will try to implement an algorithm that solves the problem in polynomial-time. The approach that will be taken is greedy. We will take the original athlete dictionary which contained athlete_id and skills with scores, create a new dictionary called skills dictionary. That dictionary will then be sorted with the highest values on top. So when we will need someone with the best score in that skill, we will take them as our team member."
   ]
  },
  {
   "cell_type": "code",
   "execution_count": 35,
   "metadata": {},
   "outputs": [],
   "source": [
    "def give_maximum_score_greedy(input_filename):\n",
    "    n, m, s, list_of_skills, athlete_dict = parse_input(input_filename)\n",
    "    skill_dict = defaultdict(list)\n",
    "\n",
    "    # Creation of skills dictionary\n",
    "    for athlete_id, skills in athlete_dict.items():\n",
    "        for skill, score in skills.items():\n",
    "            skill_dict[skill].append((score, athlete_id))\n",
    "\n",
    "    # Making the athletes with highest scores be on top\n",
    "    for skill in skill_dict:\n",
    "        skill_dict[skill].sort(reverse=True)\n",
    "\n",
    "    assigned_athletes = set()\n",
    "    total_score = 0\n",
    "\n",
    "    # Now we go through all the skills and take the athletes with the highest score\n",
    "    for skill in list_of_skills:\n",
    "        for score, athlete_id in skill_dict[skill]:\n",
    "            # If they are assigned already, don't take them into consideration\n",
    "            if athlete_id not in assigned_athletes:\n",
    "                total_score += score\n",
    "                assigned_athletes.add(athlete_id)\n",
    "                break\n",
    "\n",
    "    return total_score"
   ]
  },
  {
   "cell_type": "code",
   "execution_count": 36,
   "metadata": {},
   "outputs": [],
   "source": [
    "max_score_1 = give_maximum_score_greedy(\"input/ex1.txt\")\n",
    "max_score_2 = give_maximum_score_greedy(\"input/ex2.txt\")"
   ]
  },
  {
   "cell_type": "code",
   "execution_count": 38,
   "metadata": {},
   "outputs": [
    {
     "name": "stdout",
     "output_type": "stream",
     "text": [
      "370\n",
      "399\n"
     ]
    }
   ],
   "source": [
    "print(max_score_1)  # Expected: 370\n",
    "print(max_score_2)  # Expected: 399"
   ]
  },
  {
   "cell_type": "markdown",
   "metadata": {},
   "source": [
    "We got the same results as with our previous approach, so it is correct. However, this approach might not always give us correct results. Depending on the input, there is still possibility that someone gets assigned a skill (eg. basketball) that individually he is the best in, but he is also best in some other skill (eg. football), so having that some solutions are not the most optimal for the total team score. "
   ]
  },
  {
   "cell_type": "markdown",
   "metadata": {},
   "source": [
    "For the time complexity, most of the time is spent on creating and sorting the new dictionary for skills. which can be seen as `O(S x N log N)`, where `S` is number of the skills athlete can possess, and `N` is the number of athletes. Depending on the size of skills, this can be reduced to `O(N log N)`, if the number of athletes is much larger than number of skills. Which in the end both solutions are in polynomial time. "
   ]
  },
  {
   "cell_type": "markdown",
   "metadata": {},
   "source": [
    "#### 4. S = 1?"
   ]
  },
  {
   "cell_type": "markdown",
   "metadata": {},
   "source": [
    "As discussed in the previous paragraph, if `S = 1` then the greedy approach will only be expensive on sorting which is `O(N log N)`. However, if we look at the initial DFS approach, it does not matter the `S` value. It is only dependent on the N and M, which has also been discussed in previous points."
   ]
  },
  {
   "cell_type": "markdown",
   "metadata": {},
   "source": [
    "### Part B"
   ]
  },
  {
   "cell_type": "markdown",
   "metadata": {},
   "source": [
    "#### 1. NP-complete?"
   ]
  },
  {
   "cell_type": "markdown",
   "metadata": {},
   "source": [
    "Now we have a completly different problem on our hands. We will not focus on individual skill for each person, but on synergy between team members. Firstly, let's check how to prove that a problem is NP-complete:\n",
    "- It is in NP, meaning that given a solution, we can verify its correctness in polynomial time.\n",
    "- It is at least as hard as other problems in NP, usually shown by reducing a known NP-complete problem to it in polynomial time."
   ]
  },
  {
   "cell_type": "markdown",
   "metadata": {},
   "source": [
    "Let's focus on proving it is in NP. To verify whether a given solution for the team-building problem is valid within polynomial time. The solution comprises a subset of individuals, \\( X' \\subseteq X \\), and their corresponding subgraph in the team interaction graph, \\( G[V'] \\). Input values:\n",
    "- `X_prime`: Subset of individuals representing the proposed solution.\n",
    "- `T`: List of required skills.\n",
    "- `G`: Graph representing individuals and their interactions.\n",
    "\n",
    "Now we will try to create a pseudocode, to prove that the problem is in NP.\n",
    "\n",
    "```python\n",
    "def team_synergy_NP(X_prime, T, G, minimal_mst_weight):\n",
    "    # First we need to add the covered skills from individuals\n",
    "    covered_skills = set()\n",
    "    for individual in X_prime:\n",
    "        covered_skills.update(individual.skills)\n",
    "    \n",
    "    # If there is skill that is not covered, skill coverage fails\n",
    "    if not all(skill in covered_skills for skill in T):\n",
    "        return False\n",
    "\n",
    "    # G' with MST weight\n",
    "    G_prime = create_subgraph(G, X_prime)\n",
    "    mst_weight = compute_mst_weight(G_prime)\n",
    "\n",
    "    # Check if the MST weight equals to the optimal one\n",
    "    if mst_weight != minimal_mst_weight:\n",
    "        return False \n",
    "\n",
    "    # The solution passes verification\n",
    "    return True  \n",
    "```\n",
    "\n",
    "Now we see `minimal_mst_weight` variable which in this context might not be provided. It is obvious that this problem with provided optimal MST weight is in NP. However, finding the optimal MST weight by itself is not descision problem, which does not fall into NP problem. With this in mind, we can not for sure say that this problem is in NP."
   ]
  },
  {
   "cell_type": "markdown",
   "metadata": {},
   "source": [
    "Now let's see if we can reduce known NP-complete problems to it in polynomial time. Let's try to do it using Set Cover problem.\n",
    "\n",
    "In the Set Cover problem, there is a universe `U` of `n` elements and a collection `C` of `m` subsets of `U`. The question is whether there exists a subcollection `C'` of `C` containing `k` or fewer subsets whose union is equal to `U`. The Set Cover problem is known to be NP-hard.\n",
    "\n",
    "Let's now try reducing it to our problem:\n",
    "- **Universe `U` in Set Cover**: Represents the set of all required skills.\n",
    "- **Collection `C` in Set Cover**: Each subset in `C` corresponds to the skills of an individual.\n",
    "- **Collection `C'` in Set Cover**: Aims to find a subset of these individuals whose combined skills cover all skills in `U`.\n",
    "- For each element in `U` we need to create a skill.\n",
    "- For each subset in `C`, create an individual in `X` with the corresponding skills.\n",
    "- For each node that represents an individual construct a complete graph `G`, and each edge has a weight representing the effort to work together.\n",
    "- The required skill set `T` in the team-building problem is equivalent to the universe `U` from Set Cover.\n",
    "- The set of individuals `X` in the team-building problem is formed from the subsets in `C`.\n",
    "- The transformation from an instance of the Set Cover problem to an instance of the team-building problem can be done in polynomial time.\n",
    "- The size of `X` is directly proportional to the size of `C`, and `T` corresponds to `U`.\n",
    "- A solution to the team building problem (a subset `X'` and its MST weight) corresponds to a solution to the Set Cover problem (`C'`).\n",
    "- Finding a subset `X'` that covers `T` and has the minimum MST weight implies a solution to the Set Cover problem. Which concludes reduction from Set Cover problem, that is NP-hard problem to our problem.\n"
   ]
  },
  {
   "cell_type": "markdown",
   "metadata": {},
   "source": [
    "From here we can see that problem can be reduced to NP-hard problem, however, as stated in concluding is it inside NP, depends on if finding optimal MST weight is part of the problem, which in the end is an optimization problem."
   ]
  },
  {
   "cell_type": "markdown",
   "metadata": {},
   "source": [
    "#### Heuristic for approximating solution"
   ]
  },
  {
   "cell_type": "markdown",
   "metadata": {},
   "source": [
    "Before writing a heuristic, let's talk about the strategy. Main idea of heuristic is to have a practical method, maybe solution is not always the most optimal. Now the strategy proposed is next:\n",
    "- Go with greedy approach, by having a team that covers as much as possible without looking at the team synergy in the beginning.\n",
    "- This will give us close to all the skills required.\n",
    "- Now we need to minimize the total effort required or optimizing MST weight to be minimized.\n",
    "- This will be done iteratively to adjust the team for optimized MST weight.\n",
    "- After testing different compositions, only add the best candidate for now, and do it again until we have complete team with all the skills, or until we dont have the best candidate anymore.\n",
    "\n",
    "In the next code we will have pseudocode for our heuristic. Calculation of MST weight will be assumed to be implemented with the time complexity to be `O(E log V)` if using Prim's algorithm. The main idea how Prim's algorithm works is next:\n",
    "- It is a greedy algorithm that finds a minimum spanning tree for a weighted undirected graph.\n",
    "- The algorithm starts with an empty spanning tree. \n",
    "- The idea is to maintain two sets of vertices. \n",
    "- The first set contains the vertices already included in the MST, and the other set contains the vertices not yet included. \n",
    "- At every step, it considers all the edges that connect the two sets and picks the minimum weight edge from these edges. \n",
    "- After picking the edge, it moves the other endpoint of the edge to the set containing MST. "
   ]
  },
  {
   "cell_type": "code",
   "execution_count": null,
   "metadata": {},
   "outputs": [],
   "source": [
    "def heuristic_team_building(G, skills, required_skills):\n",
    "    selected_team_members = set()\n",
    "    covered_skills = set()\n",
    "\n",
    "    # Go through this until every skill is here\n",
    "    while covered_skills != required_skills:\n",
    "        best_candidate = None\n",
    "        best_value = float(\"inf\")\n",
    "\n",
    "        # Iterate over each potential team member in the graph\n",
    "        for node in G.nodes:\n",
    "            \n",
    "            # If already selected, go next\n",
    "            if node in selected_team_members:\n",
    "                continue\n",
    "\n",
    "            # Calculate new skills that this teammate can add\n",
    "            new_skills = skills[node] - covered_skills\n",
    "\n",
    "            # If new skills are not added, go next\n",
    "            if not new_skills:\n",
    "                continue\n",
    "\n",
    "            # Form a new team including the current team member\n",
    "            new_team = selected_team_members.union({node})\n",
    "\n",
    "            # Calculate the weight of the MST for this new team\n",
    "            mst_weight = calculate_mst_weight(G, new_team)\n",
    "\n",
    "            # Evaluation will be based on balance of skills added and teamwork effort\n",
    "            # Someone with more skills added will bring better value\n",
    "            value = mst_weight - len(new_skills)\n",
    "\n",
    "            # If someone has value lower than the best value\n",
    "            # That is our new best candidate for the team\n",
    "            if value < best_value:\n",
    "                best_value = value\n",
    "                best_candidate = node\n",
    "\n",
    "        # If no best candidate is found best team is found break while\n",
    "        if best_candidate is None:\n",
    "            break\n",
    "\n",
    "        # Add the best candidate to the selected team and update covered skills\n",
    "        selected_team_members.add(best_candidate)\n",
    "        covered_skills.update(skills[best_candidate])\n",
    "\n",
    "    return selected_team_members"
   ]
  },
  {
   "cell_type": "markdown",
   "metadata": {},
   "source": [
    "#### Time complexity"
   ]
  },
  {
   "cell_type": "markdown",
   "metadata": {},
   "source": [
    "Now we need to analyze our heuristic. We are only interested in the most expensive operations, which in this case is calculation of MST weight. As said before, we assume that the calculation of MST weight is done using Prim's algorithm, which is `O(E + V log V)`. However, we apply supgraph in each iteration, then the size increases where we will include all the nodes, so that means that the time complexity is `O(E + N log N)` Now, we will go through this algorithm in at most `N` times with while loop. Finally, we will get `O(N * (E + N log N))` time complexity for the heuristic algorithm. "
   ]
  }
 ],
 "metadata": {
  "kernelspec": {
   "display_name": "adm_hw5",
   "language": "python",
   "name": "python3"
  },
  "language_info": {
   "codemirror_mode": {
    "name": "ipython",
    "version": 3
   },
   "file_extension": ".py",
   "mimetype": "text/x-python",
   "name": "python",
   "nbconvert_exporter": "python",
   "pygments_lexer": "ipython3",
   "version": "3.11.5"
  }
 },
 "nbformat": 4,
 "nbformat_minor": 2
}
